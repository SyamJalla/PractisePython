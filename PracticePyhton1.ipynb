{
 "cells": [
  {
   "cell_type": "markdown",
   "metadata": {},
   "source": [
    "#exercise 1\n",
    "\n",
    "#Take Name and Age and print out no of years to complete 100 years"
   ]
  },
  {
   "cell_type": "code",
   "execution_count": 3,
   "metadata": {
    "collapsed": false
   },
   "outputs": [
    {
     "name": "stdout",
     "output_type": "stream",
     "text": [
      "Dude!!! Whats your name : syam\n",
      "Whats your age : 22\n"
     ]
    }
   ],
   "source": [
    "Name = input('Dude!!! Whats your name : ')\n",
    "Age = int(input('Whats your age : '))"
   ]
  },
  {
   "cell_type": "code",
   "execution_count": 5,
   "metadata": {
    "collapsed": false
   },
   "outputs": [
    {
     "name": "stdout",
     "output_type": "stream",
     "text": [
      "Dude syam You have to live for 78 more years\n"
     ]
    }
   ],
   "source": [
    "print('Dude ' +Name +' You have to live for %d more years' %(100-Age))"
   ]
  },
  {
   "cell_type": "code",
   "execution_count": 9,
   "metadata": {
    "collapsed": false
   },
   "outputs": [
    {
     "name": "stdout",
     "output_type": "stream",
     "text": [
      "syam How many copies you need : 5\n"
     ]
    }
   ],
   "source": [
    "copies = int(input(Name +' How many copies you need : '))"
   ]
  },
  {
   "cell_type": "code",
   "execution_count": 11,
   "metadata": {
    "collapsed": false
   },
   "outputs": [
    {
     "name": "stdout",
     "output_type": "stream",
     "text": [
      "Dude syam You have to live for 78 more years.Dude syam You have to live for 78 more years.Dude syam You have to live for 78 more years.Dude syam You have to live for 78 more years.Dude syam You have to live for 78 more years.\n"
     ]
    }
   ],
   "source": [
    "print(('Dude ' +Name +' You have to live for %d more years.' %(100-Age)) * copies)"
   ]
  },
  {
   "cell_type": "code",
   "execution_count": 13,
   "metadata": {
    "collapsed": false
   },
   "outputs": [
    {
     "name": "stdout",
     "output_type": "stream",
     "text": [
      "Dude syam You have to live for 78 more years.\tDude syam You have to live for 78 more years.\tDude syam You have to live for 78 more years.\tDude syam You have to live for 78 more years.\tDude syam You have to live for 78 more years.\t\n"
     ]
    }
   ],
   "source": [
    "print(('Dude ' +Name +' You have to live for %d more years.\\t' %(100-Age)) * copies)"
   ]
  },
  {
   "cell_type": "code",
   "execution_count": 15,
   "metadata": {
    "collapsed": false
   },
   "outputs": [
    {
     "name": "stdout",
     "output_type": "stream",
     "text": [
      "Dude syam You have to live for 78 more years.\n",
      "Dude syam You have to live for 78 more years.\n",
      "Dude syam You have to live for 78 more years.\n",
      "Dude syam You have to live for 78 more years.\n",
      "Dude syam You have to live for 78 more years.\n",
      "\n"
     ]
    }
   ],
   "source": [
    "print(('Dude ' +Name +' You have to live for %d more years.\\n' %(100-Age)) * copies)"
   ]
  },
  {
   "cell_type": "markdown",
   "metadata": {},
   "source": [
    "#Exercise 2 \n",
    "\n",
    "#Take a number and check it for even or odd"
   ]
  },
  {
   "cell_type": "code",
   "execution_count": 18,
   "metadata": {
    "collapsed": false
   },
   "outputs": [
    {
     "name": "stdout",
     "output_type": "stream",
     "text": [
      "enter your number : 56\n"
     ]
    }
   ],
   "source": [
    "Number_Ex2 = int(input('enter your number : '))"
   ]
  },
  {
   "cell_type": "code",
   "execution_count": 19,
   "metadata": {
    "collapsed": false
   },
   "outputs": [
    {
     "name": "stdout",
     "output_type": "stream",
     "text": [
      "56 is even\n"
     ]
    }
   ],
   "source": [
    "if Number_Ex2%2 == 0:\n",
    "    print('%d is even' %Number_Ex2)\n",
    "else:\n",
    "    print('%d is odd' %Number_Ex2)"
   ]
  },
  {
   "cell_type": "code",
   "execution_count": 20,
   "metadata": {
    "collapsed": true
   },
   "outputs": [],
   "source": [
    "#including the check for multiples of 4"
   ]
  },
  {
   "cell_type": "code",
   "execution_count": 21,
   "metadata": {
    "collapsed": false
   },
   "outputs": [
    {
     "name": "stdout",
     "output_type": "stream",
     "text": [
      "enter your number : 45\n",
      "45 is odd\n"
     ]
    }
   ],
   "source": [
    "Number_Ex2 = int(input('enter your number : '))\n",
    "if Number_Ex2%4 == 0:\n",
    "    print('%d is even and multiple of 4' %Number_Ex2)\n",
    "elif Number_Ex2%2 ==0:\n",
    "    print('%d is even' %Number_Ex2)\n",
    "else:\n",
    "    print('%d is odd' %Number_Ex2)"
   ]
  },
  {
   "cell_type": "code",
   "execution_count": 22,
   "metadata": {
    "collapsed": false
   },
   "outputs": [
    {
     "name": "stdout",
     "output_type": "stream",
     "text": [
      "enter your number : 96\n",
      "96 is even and multiple of 4\n"
     ]
    }
   ],
   "source": [
    "Number_Ex2 = int(input('enter your number : '))\n",
    "if Number_Ex2%4 == 0:\n",
    "    print('%d is even and multiple of 4' %Number_Ex2)\n",
    "elif Number_Ex2%2 ==0:\n",
    "    print('%d is even' %Number_Ex2)\n",
    "else:\n",
    "    print('%d is odd' %Number_Ex2)"
   ]
  },
  {
   "cell_type": "markdown",
   "metadata": {},
   "source": [
    "# for extra part 2. To check if the second number is factor of other."
   ]
  },
  {
   "cell_type": "code",
   "execution_count": 24,
   "metadata": {
    "collapsed": false
   },
   "outputs": [
    {
     "name": "stdout",
     "output_type": "stream",
     "text": [
      "Which number to check : 6\n",
      "check by number : 2\n",
      "2 is factor of 6\n"
     ]
    }
   ],
   "source": [
    "Num = int(input('Which number to check : '))\n",
    "check = int(input('check by number : '))\n",
    "if Num%check == 0:\n",
    "    print('%d is factor of %d' %(check, Num))\n",
    "else:\n",
    "    print('%d is not a factor of%d' %(check, Num))"
   ]
  },
  {
   "cell_type": "code",
   "execution_count": 25,
   "metadata": {
    "collapsed": true
   },
   "outputs": [],
   "source": [
    "def factor(Num, check):\n",
    "    if Num%check == 0:\n",
    "        print('%d is factor of %d' %(check, Num))\n",
    "    else:\n",
    "        print('%d is not a factor of %d' %(check, Num))"
   ]
  },
  {
   "cell_type": "code",
   "execution_count": 26,
   "metadata": {
    "collapsed": false
   },
   "outputs": [
    {
     "name": "stdout",
     "output_type": "stream",
     "text": [
      "8 is not a factor of 90\n"
     ]
    }
   ],
   "source": [
    "factor(90, 8)"
   ]
  },
  {
   "cell_type": "code",
   "execution_count": 27,
   "metadata": {
    "collapsed": false
   },
   "outputs": [
    {
     "name": "stdout",
     "output_type": "stream",
     "text": [
      "15 is factor of 105\n"
     ]
    }
   ],
   "source": [
    "factor(105, 15)"
   ]
  },
  {
   "cell_type": "markdown",
   "metadata": {},
   "source": [
    "#Exercise 3\n",
    "#Taking a list of numbers and printing numbers less than 5"
   ]
  },
  {
   "cell_type": "code",
   "execution_count": 29,
   "metadata": {
    "collapsed": true
   },
   "outputs": [],
   "source": [
    "a = [1, 1, 2, 3, 5, 8, 13, 21, 34, 55, 89, 4]"
   ]
  },
  {
   "cell_type": "code",
   "execution_count": 30,
   "metadata": {
    "collapsed": false
   },
   "outputs": [
    {
     "name": "stdout",
     "output_type": "stream",
     "text": [
      "1\n",
      "1\n",
      "2\n",
      "3\n",
      "4\n"
     ]
    }
   ],
   "source": [
    "for i in range(0,len(a)):\n",
    "    if a[i] < 5:\n",
    "        print(a[i])"
   ]
  },
  {
   "cell_type": "code",
   "execution_count": 31,
   "metadata": {
    "collapsed": true
   },
   "outputs": [],
   "source": [
    "b = []\n",
    "    \n",
    "for i in range(0,len(a)): #her it is not comparing the last number :P\n",
    "    if a[i] < 5:\n",
    "        b.append(a[i])"
   ]
  },
  {
   "cell_type": "code",
   "execution_count": 32,
   "metadata": {
    "collapsed": false
   },
   "outputs": [
    {
     "data": {
      "text/plain": [
       "[1, 1, 2, 3, 4]"
      ]
     },
     "execution_count": 32,
     "metadata": {},
     "output_type": "execute_result"
    }
   ],
   "source": [
    "b"
   ]
  },
  {
   "cell_type": "markdown",
   "metadata": {},
   "source": [
    "#extras 3\n",
    "# Chose a number to compare the list rather than 5"
   ]
  },
  {
   "cell_type": "code",
   "execution_count": 34,
   "metadata": {
    "collapsed": false
   },
   "outputs": [
    {
     "name": "stdout",
     "output_type": "stream",
     "text": [
      "enter number to compare : 10\n",
      "length of list is : 10\n"
     ]
    }
   ],
   "source": [
    "GT = int(input('enter number to compare : '))\n",
    "ListLenght_Ex3 = int(input('length of list is : '))"
   ]
  },
  {
   "cell_type": "code",
   "execution_count": 35,
   "metadata": {
    "collapsed": false
   },
   "outputs": [
    {
     "name": "stdout",
     "output_type": "stream",
     "text": [
      "enter number please : 15\n",
      "enter number please : 56\n",
      "enter number please : 89\n",
      "enter number please : 53\n",
      "enter number please : 4\n",
      "enter number please : 2\n",
      "enter number please : 56\n",
      "enter number please : 2\n",
      "enter number please : 4\n",
      "enter number please : 83\n"
     ]
    }
   ],
   "source": [
    "c = []\n",
    "\n",
    "for i in range(0,ListLenght_Ex3):\n",
    "    s_ex3 = int(input('enter number please : '))\n",
    "    c.append(s_ex3)"
   ]
  },
  {
   "cell_type": "code",
   "execution_count": 36,
   "metadata": {
    "collapsed": false
   },
   "outputs": [
    {
     "data": {
      "text/plain": [
       "[15, 56, 89, 53, 4, 2, 56, 2, 4, 83]"
      ]
     },
     "execution_count": 36,
     "metadata": {},
     "output_type": "execute_result"
    }
   ],
   "source": [
    "c"
   ]
  },
  {
   "cell_type": "code",
   "execution_count": 37,
   "metadata": {
    "collapsed": true
   },
   "outputs": [],
   "source": [
    "x_ex_3 = []\n",
    "\n",
    "for i in range(0,ListLenght_Ex3):\n",
    "    if c[i] < GT:\n",
    "        x_ex_3.append(c[i])"
   ]
  },
  {
   "cell_type": "code",
   "execution_count": 38,
   "metadata": {
    "collapsed": false
   },
   "outputs": [
    {
     "data": {
      "text/plain": [
       "[4, 2, 2, 4]"
      ]
     },
     "execution_count": 38,
     "metadata": {},
     "output_type": "execute_result"
    }
   ],
   "source": [
    "x_ex_3"
   ]
  },
  {
   "cell_type": "code",
   "execution_count": 39,
   "metadata": {
    "collapsed": true
   },
   "outputs": [],
   "source": [
    "#Exercise - 4\n",
    "#Getting all the factors of a given number"
   ]
  },
  {
   "cell_type": "code",
   "execution_count": 40,
   "metadata": {
    "collapsed": false
   },
   "outputs": [
    {
     "name": "stdout",
     "output_type": "stream",
     "text": [
      "Enter a number of your choice : 44\n"
     ]
    }
   ],
   "source": [
    "Num_Ex4 = int(input('Enter a number of your choice : '))\n",
    "\n",
    "s_Ex4 = []\n",
    "s_Ex4_f = []"
   ]
  },
  {
   "cell_type": "code",
   "execution_count": 41,
   "metadata": {
    "collapsed": true
   },
   "outputs": [],
   "source": [
    "def factor_Ex4(Num_Ex4):\n",
    "    for i in range(1, int(Num_Ex4/2)+1):\n",
    "        if Num_Ex4 % i == 0:\n",
    "            s_Ex4.append(i)\n",
    "            s_Ex4.append(Num_Ex4/i)\n",
    "            s_Ex4_f = set(s_Ex4)\n",
    "    print(s_Ex4_f)"
   ]
  },
  {
   "cell_type": "code",
   "execution_count": 42,
   "metadata": {
    "collapsed": false
   },
   "outputs": [
    {
     "name": "stdout",
     "output_type": "stream",
     "text": [
      "{1, 2, 4, 11.0, 44.0, 22.0}\n"
     ]
    }
   ],
   "source": [
    "factor_Ex4(Num_Ex4)"
   ]
  },
  {
   "cell_type": "markdown",
   "metadata": {},
   "source": [
    "# some points to remember..... the calculations are ... i would say more orthodox calculations\n",
    "# like there is scope for optimizations here.... as in calculation done in the background and \n",
    "# time required."
   ]
  },
  {
   "cell_type": "markdown",
   "metadata": {},
   "source": [
    "#Exercise 5\n",
    "# printing the common items from two lists"
   ]
  },
  {
   "cell_type": "code",
   "execution_count": 45,
   "metadata": {
    "collapsed": true
   },
   "outputs": [],
   "source": [
    "a_Ex5 = [1, 1, 2, 3, 5, 8, 13, 21, 34, 55, 89]\n",
    "b_Ex5 = [1, 2, 3, 4, 5, 6, 7, 8, 9, 10, 11, 12, 13]"
   ]
  },
  {
   "cell_type": "code",
   "execution_count": 46,
   "metadata": {
    "collapsed": false
   },
   "outputs": [
    {
     "data": {
      "text/plain": [
       "{1, 2, 3, 4, 5, 6, 7, 8, 9, 10, 11, 12, 13, 21, 34, 55, 89}"
      ]
     },
     "execution_count": 46,
     "metadata": {},
     "output_type": "execute_result"
    }
   ],
   "source": [
    "c_Ex5 = set(a_Ex5 + b_Ex5)\n",
    "c_Ex5"
   ]
  },
  {
   "cell_type": "code",
   "execution_count": 47,
   "metadata": {
    "collapsed": false
   },
   "outputs": [
    {
     "data": {
      "text/plain": [
       "[1, 1, 2, 3, 5, 8, 13, 21, 34, 55, 89]"
      ]
     },
     "execution_count": 47,
     "metadata": {},
     "output_type": "execute_result"
    }
   ],
   "source": [
    "min_Ex5 = min(a_Ex5, b_Ex5)\n",
    "min_Ex5"
   ]
  },
  {
   "cell_type": "code",
   "execution_count": 48,
   "metadata": {
    "collapsed": true
   },
   "outputs": [],
   "source": [
    "req_Ex5 =[]"
   ]
  },
  {
   "cell_type": "code",
   "execution_count": 49,
   "metadata": {
    "collapsed": true
   },
   "outputs": [],
   "source": [
    "for i in range(0, len(min_Ex5)):\n",
    "    if a_Ex5[i] in b_Ex5:\n",
    "        req_Ex5.append(a_Ex5[i])"
   ]
  },
  {
   "cell_type": "code",
   "execution_count": 50,
   "metadata": {
    "collapsed": false
   },
   "outputs": [
    {
     "data": {
      "text/plain": [
       "[1, 1, 2, 3, 5, 8, 13]"
      ]
     },
     "execution_count": 50,
     "metadata": {},
     "output_type": "execute_result"
    }
   ],
   "source": [
    "req_Ex5"
   ]
  },
  {
   "cell_type": "code",
   "execution_count": 51,
   "metadata": {
    "collapsed": false
   },
   "outputs": [
    {
     "data": {
      "text/plain": [
       "{1, 2, 3, 5, 8, 13}"
      ]
     },
     "execution_count": 51,
     "metadata": {},
     "output_type": "execute_result"
    }
   ],
   "source": [
    "req_Ex5 = set(req_Ex5)\n",
    "req_Ex5"
   ]
  },
  {
   "cell_type": "markdown",
   "metadata": {},
   "source": [
    "#extras 1\n",
    "\n",
    "#generating the list to check this..... random list can be created using random_list function"
   ]
  },
  {
   "cell_type": "code",
   "execution_count": 53,
   "metadata": {
    "collapsed": true
   },
   "outputs": [],
   "source": [
    "import random\n",
    "\n",
    "req1_Ex5 = []\n",
    "\n",
    "def list_comp(N1, N2):\n",
    "    l1_Ex5 = random.sample(range(100),N1) #random sampling of N1 numbers upto range 100.\n",
    "    l2_Ex5 = random.sample(range(100),N2)\n",
    "    \n",
    "    for i in range(0, len(l1_Ex5)):\n",
    "        if l1_Ex5[i] in l2_Ex5:\n",
    "            req1_Ex5.append(l1_Ex5[i])\n",
    "    return req1_Ex5"
   ]
  },
  {
   "cell_type": "code",
   "execution_count": 54,
   "metadata": {
    "collapsed": false
   },
   "outputs": [
    {
     "data": {
      "text/plain": [
       "[43]"
      ]
     },
     "execution_count": 54,
     "metadata": {},
     "output_type": "execute_result"
    }
   ],
   "source": [
    "list_comp(10, 15)"
   ]
  },
  {
   "cell_type": "markdown",
   "metadata": {},
   "source": [
    "#Exercise 6\n",
    "#\n",
    "#Ask the user for a string and print out whether this string is a palindrome or not.\n",
    "#(A palindrome is a string that reads the same forwards and backwards.)"
   ]
  },
  {
   "cell_type": "code",
   "execution_count": 57,
   "metadata": {
    "collapsed": false
   },
   "outputs": [
    {
     "name": "stdout",
     "output_type": "stream",
     "text": [
      "give me a word :eye\n"
     ]
    }
   ],
   "source": [
    "string_Ex6 = input('give me a word :')\n",
    "len_Ex6 = len(string_Ex6)"
   ]
  },
  {
   "cell_type": "code",
   "execution_count": 58,
   "metadata": {
    "collapsed": false
   },
   "outputs": [
    {
     "name": "stdout",
     "output_type": "stream",
     "text": [
      "Dude!! you just gave a palindrome\n"
     ]
    }
   ],
   "source": [
    "for i in range(0, int(len_Ex6/2)):\n",
    "    if string_Ex6[i] == string_Ex6[len_Ex6 - i - 1]:\n",
    "        print('Dude!! you just gave a palindrome')\n",
    "    else:\n",
    "        print('Dude!! its not a palindrome')"
   ]
  },
  {
   "cell_type": "markdown",
   "metadata": {},
   "source": [
    "# here it compares a string after every character comparison in string."
   ]
  },
  {
   "cell_type": "code",
   "execution_count": 60,
   "metadata": {
    "collapsed": false
   },
   "outputs": [
    {
     "name": "stdout",
     "output_type": "stream",
     "text": [
      "give me a word :eye\n",
      "its a palindrome\n"
     ]
    }
   ],
   "source": [
    "string_Ex6 = input('give me a word :')\n",
    "rev_string_Ex6 = string_Ex6[::-1] # :: is used to reverse a string. \n",
    "if rev_string_Ex6 == string_Ex6:\n",
    "    print('its a palindrome')\n",
    "else:\n",
    "    print('its not a palindrome')"
   ]
  },
  {
   "cell_type": "code",
   "execution_count": 61,
   "metadata": {
    "collapsed": false
   },
   "outputs": [
    {
     "name": "stdout",
     "output_type": "stream",
     "text": [
      "give me a word :nose\n",
      "its not a palindrome\n"
     ]
    }
   ],
   "source": [
    "string_Ex6 = input('give me a word :')\n",
    "rev_string_Ex6 = string_Ex6[::-1] # :: is used to reverse a string. \n",
    "if rev_string_Ex6 == string_Ex6:\n",
    "    print('its a palindrome')\n",
    "else:\n",
    "    print('its not a palindrome')"
   ]
  },
  {
   "cell_type": "markdown",
   "metadata": {},
   "source": [
    "# Exercise 7\n",
    "\n",
    "# Given a List.Write one line of Python that takes this list a and makes a new list \n",
    "#that has only the even elements of this list in it."
   ]
  },
  {
   "cell_type": "code",
   "execution_count": 63,
   "metadata": {
    "collapsed": true
   },
   "outputs": [],
   "source": [
    "List_Ex7 = [1, 4, 9, 16, 25, 36, 49, 64, 81, 100]\n",
    "\n",
    "Req_Ex7 = [number%2 == 0 for number in List_Ex7]"
   ]
  },
  {
   "cell_type": "code",
   "execution_count": 64,
   "metadata": {
    "collapsed": false
   },
   "outputs": [
    {
     "data": {
      "text/plain": [
       "[False, True, False, True, False, True, False, True, False, True]"
      ]
     },
     "execution_count": 64,
     "metadata": {},
     "output_type": "execute_result"
    }
   ],
   "source": [
    "Req_Ex7"
   ]
  },
  {
   "cell_type": "code",
   "execution_count": 65,
   "metadata": {
    "collapsed": true
   },
   "outputs": [],
   "source": [
    "Req_Ex7_1 = []\n",
    "\n",
    "for num in List_Ex7:\n",
    "    if num%2 == 0:\n",
    "        Req_Ex7_1.append(num)"
   ]
  },
  {
   "cell_type": "code",
   "execution_count": 66,
   "metadata": {
    "collapsed": false
   },
   "outputs": [
    {
     "data": {
      "text/plain": [
       "[4, 16, 36, 64, 100]"
      ]
     },
     "execution_count": 66,
     "metadata": {},
     "output_type": "execute_result"
    }
   ],
   "source": [
    "Req_Ex7_1"
   ]
  },
  {
   "cell_type": "code",
   "execution_count": 67,
   "metadata": {
    "collapsed": true
   },
   "outputs": [],
   "source": [
    "Req_Ex7_2 = [numb for numb in List_Ex7 if numb%2 == 0]"
   ]
  },
  {
   "cell_type": "code",
   "execution_count": 68,
   "metadata": {
    "collapsed": false
   },
   "outputs": [
    {
     "data": {
      "text/plain": [
       "[4, 16, 36, 64, 100]"
      ]
     },
     "execution_count": 68,
     "metadata": {},
     "output_type": "execute_result"
    }
   ],
   "source": [
    "Req_Ex7_2"
   ]
  },
  {
   "cell_type": "markdown",
   "metadata": {},
   "source": [
    "#Exercise 8\n",
    "\n",
    "#Make a two-player Rock-Paper-Scissors game. (Hint: Ask for player plays,compare them,\n",
    "#print out a message of congratulations to the winner, and ask if the players want to start a new game)"
   ]
  },
  {
   "cell_type": "code",
   "execution_count": 70,
   "metadata": {
    "collapsed": false
   },
   "outputs": [
    {
     "name": "stdout",
     "output_type": "stream",
     "text": [
      "What's your name?syam\n",
      "And your name?jalla\n",
      "syam, do yo want to choose rock, paper or scissors?paper\n",
      "jalla, do you want to choose rock, paper or scissors?rock\n"
     ]
    }
   ],
   "source": [
    "user1 = input(\"What's your name?\")\n",
    "user2 = input(\"And your name?\")\n",
    "user1_answer = input(\"%s, do yo want to choose rock, paper or scissors?\" % user1)\n",
    "user2_answer = input(\"%s, do you want to choose rock, paper or scissors?\" % user2)"
   ]
  },
  {
   "cell_type": "code",
   "execution_count": 71,
   "metadata": {
    "collapsed": true
   },
   "outputs": [],
   "source": [
    "def compare_Ex8(u1, u2):\n",
    "    if u1 == u2:\n",
    "        return(\"It's a tie!\")\n",
    "    elif u1 == 'rock':\n",
    "        if u2 == 'scissors':\n",
    "            return(\"Rock wins!\")\n",
    "        else:\n",
    "            return(\"Paper wins!\")\n",
    "    elif u1 == 'scissors':\n",
    "        if u2 == 'paper':\n",
    "            return(\"Scissors win!\")\n",
    "        else:\n",
    "            return(\"Rock wins!\")\n",
    "    elif u1 == 'paper':\n",
    "        if u2 == 'rock':\n",
    "            return(\"Paper wins!\")\n",
    "        else:\n",
    "            return(\"Scissors win!\")\n",
    "    else:\n",
    "        return(\"Invalid input! You have not entered rock, paper or scissors, try again.\")"
   ]
  },
  {
   "cell_type": "code",
   "execution_count": 72,
   "metadata": {
    "collapsed": false
   },
   "outputs": [
    {
     "name": "stdout",
     "output_type": "stream",
     "text": [
      "Paper wins!\n"
     ]
    }
   ],
   "source": [
    "print(compare_Ex8(user1_answer, user2_answer))"
   ]
  },
  {
   "cell_type": "markdown",
   "metadata": {},
   "source": [
    "# Exercise 9\n",
    "\n",
    "#Generate a random number between 1 and 9 (including 1 and 9). Ask the user\n",
    "#to guess the number, then tell them whether they guessed too low, too high, or exactly right."
   ]
  },
  {
   "cell_type": "code",
   "execution_count": 74,
   "metadata": {
    "collapsed": false
   },
   "outputs": [
    {
     "name": "stdout",
     "output_type": "stream",
     "text": [
      "Guess a number : 20\n"
     ]
    }
   ],
   "source": [
    "import random\n",
    "\n",
    "random_Ex9 = random.randint(1,9)\n",
    "UserGuess_Ex9 = int(input('Guess a number : '))"
   ]
  },
  {
   "cell_type": "code",
   "execution_count": 75,
   "metadata": {
    "collapsed": true
   },
   "outputs": [],
   "source": [
    "def compare_Ex9(random_Ex9,UserGuess_Ex9):\n",
    "    if UserGuess_Ex9 == random_Ex9:\n",
    "        print('Its a match')\n",
    "    elif UserGuess_Ex9 > random_Ex9:\n",
    "        print('Guess is high')\n",
    "    else:\n",
    "        print('Guess is low')"
   ]
  },
  {
   "cell_type": "code",
   "execution_count": 76,
   "metadata": {
    "collapsed": false
   },
   "outputs": [
    {
     "name": "stdout",
     "output_type": "stream",
     "text": [
      "Guess is high\n",
      "None\n"
     ]
    }
   ],
   "source": [
    "print(compare_Ex9(random_Ex9,UserGuess_Ex9))"
   ]
  }
 ],
 "metadata": {
  "kernelspec": {
   "display_name": "Python 3",
   "language": "python",
   "name": "python3"
  },
  "language_info": {
   "codemirror_mode": {
    "name": "ipython",
    "version": 3
   },
   "file_extension": ".py",
   "mimetype": "text/x-python",
   "name": "python",
   "nbconvert_exporter": "python",
   "pygments_lexer": "ipython3",
   "version": "3.6.0"
  }
 },
 "nbformat": 4,
 "nbformat_minor": 2
}
